{
 "cells": [
  {
   "cell_type": "markdown",
   "metadata": {},
   "source": [
    "# Notes on evaluating proportion forecasts\n",
    "\n",
    "## Set up\n",
    "\n",
    "In a problem like variant proportion nowcasting, we are interested in a parameter $\\mu_t = (\\mu_{t1}, \\ldots, \\mu_{tK})$ where $K$ is the number of classes (in our example, the number of variants under consideration) and $\\mu_{tk}$ is the proportion of the population that has variant $k$ at time $t$, with each $\\mu_{tk} \\geq 0$ and $\\sum_k \\mu_{tk} = 1$.\n",
    "\n",
    "At time $t$, the available data are a vector of counts $c_{t} = (c_{t1}, \\ldots, c_{tK})$ of cases in each variant class, with $\\sum_k c_{tk} = n_t$ being the total number of samples observed on day $t$.  We can regard both the sample size $n_t$ and the counts $c_t$ as being realizations of the random variables $N_t$ and $C_t$.\n",
    "\n",
    "## A proposed evaluation and elicitation method\n",
    "\n",
    "We are considering the following scheme for forecast evaluation:\n",
    "\n",
    "1. a forecaster submits a prediction that is intended to be a representation of the forecast distribution $\\hat{F}_{\\mu_t}$ for the population proportions $\\mu_t$. For example, they might submit a collection of $m$ samples from this distribution.\n",
    "2. the hub specifies a conditional distribution for the observed sample counts given $\\mu_t$ and the sample size $n_t$, $F_{C_t \\mid \\mu_t, n_t}$.  For example, the hub might specify that $C_t \\mid \\mu_t, n_t \\sim Multinomial(\\mu_t, n_t)$.\n",
    "3. Once finalized sample values are reported, we evaluate the conditional forecast distribution for the counts given $N_t = n_t$.  For expository purposes, if $\\hat{F}_{\\mu_t}$ and $F_{C \\mid \\mu}$ have densities $\\hat{f}_{\\mu_t}$ and $f_{C \\mid \\mu}$, this can be computed as $\\hat{f}_{C_t \\mid n_t}(c) = \\int f_{C_t \\mid \\mu_t, n_t}(c) \\hat{f}_{\\mu_t}(\\mu) \\, d \\mu$.  We can compute some proper score $S(\\hat{f}_{C_t \\mid n_t}, c_t)$ that measures the success of the forecast for the data $c_t$ that is derived from the submission $\\hat{F}_{\\mu_t}$.\n",
    "\n",
    "The purpose of this is to avoid the requirement that teams contributing to the hub model the distribution of $N_t$, which is not epidemiologically interesting.\n",
    "\n",
    "## Challenge: partial reporting\n",
    "\n",
    "In a nowcasting exercise, it will often be the case that some partial data reports are available for some past date for which a prediction is requested. To simplify the discussion, first suppose that a team knows how many samples $n_t$ will eventually be reported, but at the time of the forecast $m_t$ samples have been collected (with $0 < m_t \\leq n_t$). We'll briefly comment on a setting where the final count $n_t$ is unknown later.\n",
    "\n",
    "Additionally, suppose that the population is large, that samples that are reported on different days are independent, and that sample counts do follow a multinomial distribution. Write $A_t$ for the samples that have been reported on the nowcast creation date (with $\\sum_k a_{tk} = m_t$) and $B_t$ for the samples for date $t$ that will be reported, but have not yet been reported on the nowcast creation date (with $\\sum_k b_{tk} = n_t - m_t$). We get to:\n",
    "\\begin{align*}\n",
    "A_t \\mid \\mu_t, m_t &\\sim Multnomial(\\mu_t, m_t) \\\\\n",
    "B_t \\mid \\mu_t, m_t, n_t &\\sim Multnomial(\\mu_t, n_t - m_t),\n",
    "\\end{align*}\n",
    "with $A_t$ and $B_t$ being independent so that $C_t = A_t + B_t \\sim Multinomial(\\mu_t, n_t)$\n",
    "\n",
    "In a setting where $A_t = a_t$ has been observed, what should a forecaster report? In other words, what quantity are we eliciting for a submission? I didn't do any formal derivations here, but my intuition is that we are not eliciting the mean parameter $\\mu_t$, but rather some quantity in between $\\mu_t$ and the sample proportions that have been reported at the time of nowcast creation, $a_t / m_t$, with the elicited value being closer to the reported proportions to date the larger $m_t / n_t$ is. This is because we will eventually be scoring data against the final reported counts $c_t$, and if $n_t - m_t$ is small only a small shift away from the sample proportions $a_t / m_t$ is possible.\n",
    "\n",
    "### Illustration\n",
    "\n",
    "Suppose that $n_t = 50$ and $\\mu_t = (0.1, 0.3, 0.6)$ with $K = 3$ classes.  Additionally, suppose that $m_t = 40$, so a fairly complete report is available at the time of the nowcast.  We consider a setting where a forecaster is asked to submit a single point estimate $\\hat{\\mu}_t$, and we will evaluate it against the data using either the mean squared error (almost Brier score) or something like a log score based on the specified Multinomial distribution for the data. We will examine a range of possible submissions of the form\n",
    "$$\\hat{\\mu}_t = \\alpha \\cdot a_t / m_t + (1 - \\alpha) \\cdot \\mu_t$$\n",
    "for interpolation factors $\\alpha$ ranging from 0 to 1.  A value of $\\alpha$ close to 1 means that the submission is close to the partially reported sample values, while a value of $\\alpha$ close to 0 means that the submission is close to the population proportion $\\mu_t$.\n",
    "\n",
    "The following code blocks illustrate the ideas for one simulation replicate (with a sparse grid for alpha, made more dense below):\n"
   ]
  },
  {
   "cell_type": "code",
   "execution_count": 1,
   "metadata": {},
   "outputs": [],
   "source": [
    "import numpy as np\n",
    "import pandas as pd\n",
    "from scipy.stats import multinomial\n",
    "import matplotlib.pyplot as plt\n"
   ]
  },
  {
   "cell_type": "code",
   "execution_count": 2,
   "metadata": {},
   "outputs": [
    {
     "name": "stdout",
     "output_type": "stream",
     "text": [
      "a = [ 5 11 24], b = [2 3 5], c = [ 7 14 29]\n",
      "a/m = [0.125 0.275 0.6  ]\n",
      "c/n = [0.14 0.28 0.58]\n",
      "alpha = [[0.01      ]\n",
      " [0.11888889]\n",
      " [0.22777778]\n",
      " [0.33666667]\n",
      " [0.44555556]\n",
      " [0.55444444]\n",
      " [0.66333333]\n",
      " [0.77222222]\n",
      " [0.88111111]\n",
      " [0.99      ]]\n",
      "mu_hat = [[0.10025    0.29975    0.6       ]\n",
      " [0.10297222 0.29702778 0.6       ]\n",
      " [0.10569444 0.29430556 0.6       ]\n",
      " [0.10841667 0.29158333 0.6       ]\n",
      " [0.11113889 0.28886111 0.6       ]\n",
      " [0.11386111 0.28613889 0.6       ]\n",
      " [0.11658333 0.28341667 0.6       ]\n",
      " [0.11930556 0.28069444 0.6       ]\n",
      " [0.12202778 0.27797222 0.6       ]\n",
      " [0.12475    0.27525    0.6       ]]\n"
     ]
    },
    {
     "data": {
      "text/html": [
       "<div>\n",
       "<style scoped>\n",
       "    .dataframe tbody tr th:only-of-type {\n",
       "        vertical-align: middle;\n",
       "    }\n",
       "\n",
       "    .dataframe tbody tr th {\n",
       "        vertical-align: top;\n",
       "    }\n",
       "\n",
       "    .dataframe thead th {\n",
       "        text-align: right;\n",
       "    }\n",
       "</style>\n",
       "<table border=\"1\" class=\"dataframe\">\n",
       "  <thead>\n",
       "    <tr style=\"text-align: right;\">\n",
       "      <th></th>\n",
       "      <th>alpha</th>\n",
       "      <th>log_score</th>\n",
       "      <th>mse</th>\n",
       "    </tr>\n",
       "  </thead>\n",
       "  <tbody>\n",
       "    <tr>\n",
       "      <th>0</th>\n",
       "      <td>0.010000</td>\n",
       "      <td>-4.277506</td>\n",
       "      <td>0.000790</td>\n",
       "    </tr>\n",
       "    <tr>\n",
       "      <th>1</th>\n",
       "      <td>0.118889</td>\n",
       "      <td>-4.217684</td>\n",
       "      <td>0.000687</td>\n",
       "    </tr>\n",
       "    <tr>\n",
       "      <th>2</th>\n",
       "      <td>0.227778</td>\n",
       "      <td>-4.163933</td>\n",
       "      <td>0.000594</td>\n",
       "    </tr>\n",
       "    <tr>\n",
       "      <th>3</th>\n",
       "      <td>0.336667</td>\n",
       "      <td>-4.116024</td>\n",
       "      <td>0.000511</td>\n",
       "    </tr>\n",
       "    <tr>\n",
       "      <th>4</th>\n",
       "      <td>0.445556</td>\n",
       "      <td>-4.073750</td>\n",
       "      <td>0.000437</td>\n",
       "    </tr>\n",
       "    <tr>\n",
       "      <th>5</th>\n",
       "      <td>0.554444</td>\n",
       "      <td>-4.036920</td>\n",
       "      <td>0.000374</td>\n",
       "    </tr>\n",
       "    <tr>\n",
       "      <th>6</th>\n",
       "      <td>0.663333</td>\n",
       "      <td>-4.005360</td>\n",
       "      <td>0.000320</td>\n",
       "    </tr>\n",
       "    <tr>\n",
       "      <th>7</th>\n",
       "      <td>0.772222</td>\n",
       "      <td>-3.978910</td>\n",
       "      <td>0.000276</td>\n",
       "    </tr>\n",
       "    <tr>\n",
       "      <th>8</th>\n",
       "      <td>0.881111</td>\n",
       "      <td>-3.957421</td>\n",
       "      <td>0.000242</td>\n",
       "    </tr>\n",
       "    <tr>\n",
       "      <th>9</th>\n",
       "      <td>0.990000</td>\n",
       "      <td>-3.940760</td>\n",
       "      <td>0.000218</td>\n",
       "    </tr>\n",
       "  </tbody>\n",
       "</table>\n",
       "</div>"
      ],
      "text/plain": [
       "      alpha  log_score       mse\n",
       "0  0.010000  -4.277506  0.000790\n",
       "1  0.118889  -4.217684  0.000687\n",
       "2  0.227778  -4.163933  0.000594\n",
       "3  0.336667  -4.116024  0.000511\n",
       "4  0.445556  -4.073750  0.000437\n",
       "5  0.554444  -4.036920  0.000374\n",
       "6  0.663333  -4.005360  0.000320\n",
       "7  0.772222  -3.978910  0.000276\n",
       "8  0.881111  -3.957421  0.000242\n",
       "9  0.990000  -3.940760  0.000218"
      ]
     },
     "execution_count": 2,
     "metadata": {},
     "output_type": "execute_result"
    }
   ],
   "source": [
    "rng = np.random.default_rng(seed=42)\n",
    "\n",
    "m = 40\n",
    "n = 50\n",
    "mu = np.array([0.1, 0.3, 0.6])\n",
    "\n",
    "a = rng.multinomial(n=m, pvals = mu)\n",
    "b = rng.multinomial(n=n-m, pvals = mu)\n",
    "c = a + b\n",
    "print(f'a = {a}, b = {b}, c = {c}')\n",
    "\n",
    "print(f'a/m = {a/m}')\n",
    "print(f'c/n = {c/n}')\n",
    "\n",
    "n_alpha = 10\n",
    "alpha = np.linspace(0.01, 0.99, n_alpha).reshape(n_alpha, 1)\n",
    "print(f'alpha = {alpha}')\n",
    "\n",
    "mu_hat = alpha * a / m + (1 - alpha) * mu\n",
    "print(f'mu_hat = {mu_hat}')\n",
    "\n",
    "log_score = multinomial(n=n, p=mu_hat).logpmf(c)\n",
    "mse = np.mean((mu_hat - c/n)**2, axis=1)\n",
    "\n",
    "scores = pd.DataFrame({\n",
    "  'alpha': alpha.squeeze(),\n",
    "  'log_score': log_score,\n",
    "  'mse': mse\n",
    "})\n",
    "scores"
   ]
  },
  {
   "cell_type": "markdown",
   "metadata": {},
   "source": [
    "Now we repeat the above for 10000 replicates and summarize the results:"
   ]
  },
  {
   "cell_type": "code",
   "execution_count": 3,
   "metadata": {},
   "outputs": [
    {
     "data": {
      "text/html": [
       "<div>\n",
       "<style scoped>\n",
       "    .dataframe tbody tr th:only-of-type {\n",
       "        vertical-align: middle;\n",
       "    }\n",
       "\n",
       "    .dataframe tbody tr th {\n",
       "        vertical-align: top;\n",
       "    }\n",
       "\n",
       "    .dataframe thead th {\n",
       "        text-align: right;\n",
       "    }\n",
       "</style>\n",
       "<table border=\"1\" class=\"dataframe\">\n",
       "  <thead>\n",
       "    <tr style=\"text-align: right;\">\n",
       "      <th></th>\n",
       "      <th>alpha</th>\n",
       "      <th>log_score</th>\n",
       "      <th>mse</th>\n",
       "      <th>replicate_index</th>\n",
       "    </tr>\n",
       "  </thead>\n",
       "  <tbody>\n",
       "    <tr>\n",
       "      <th>0</th>\n",
       "      <td>0.01</td>\n",
       "      <td>-6.498582</td>\n",
       "      <td>0.014892</td>\n",
       "      <td>0</td>\n",
       "    </tr>\n",
       "    <tr>\n",
       "      <th>1</th>\n",
       "      <td>0.02</td>\n",
       "      <td>-6.433797</td>\n",
       "      <td>0.014586</td>\n",
       "      <td>0</td>\n",
       "    </tr>\n",
       "    <tr>\n",
       "      <th>2</th>\n",
       "      <td>0.03</td>\n",
       "      <td>-6.369979</td>\n",
       "      <td>0.014285</td>\n",
       "      <td>0</td>\n",
       "    </tr>\n",
       "    <tr>\n",
       "      <th>3</th>\n",
       "      <td>0.04</td>\n",
       "      <td>-6.307122</td>\n",
       "      <td>0.013986</td>\n",
       "      <td>0</td>\n",
       "    </tr>\n",
       "    <tr>\n",
       "      <th>4</th>\n",
       "      <td>0.05</td>\n",
       "      <td>-6.245217</td>\n",
       "      <td>0.013691</td>\n",
       "      <td>0</td>\n",
       "    </tr>\n",
       "    <tr>\n",
       "      <th>...</th>\n",
       "      <td>...</td>\n",
       "      <td>...</td>\n",
       "      <td>...</td>\n",
       "      <td>...</td>\n",
       "    </tr>\n",
       "    <tr>\n",
       "      <th>94</th>\n",
       "      <td>0.95</td>\n",
       "      <td>-3.907413</td>\n",
       "      <td>0.002289</td>\n",
       "      <td>9999</td>\n",
       "    </tr>\n",
       "    <tr>\n",
       "      <th>95</th>\n",
       "      <td>0.96</td>\n",
       "      <td>-3.892185</td>\n",
       "      <td>0.002219</td>\n",
       "      <td>9999</td>\n",
       "    </tr>\n",
       "    <tr>\n",
       "      <th>96</th>\n",
       "      <td>0.97</td>\n",
       "      <td>-3.877165</td>\n",
       "      <td>0.002150</td>\n",
       "      <td>9999</td>\n",
       "    </tr>\n",
       "    <tr>\n",
       "      <th>97</th>\n",
       "      <td>0.98</td>\n",
       "      <td>-3.862354</td>\n",
       "      <td>0.002082</td>\n",
       "      <td>9999</td>\n",
       "    </tr>\n",
       "    <tr>\n",
       "      <th>98</th>\n",
       "      <td>0.99</td>\n",
       "      <td>-3.847753</td>\n",
       "      <td>0.002016</td>\n",
       "      <td>9999</td>\n",
       "    </tr>\n",
       "  </tbody>\n",
       "</table>\n",
       "<p>990000 rows × 4 columns</p>\n",
       "</div>"
      ],
      "text/plain": [
       "    alpha  log_score       mse  replicate_index\n",
       "0    0.01  -6.498582  0.014892                0\n",
       "1    0.02  -6.433797  0.014586                0\n",
       "2    0.03  -6.369979  0.014285                0\n",
       "3    0.04  -6.307122  0.013986                0\n",
       "4    0.05  -6.245217  0.013691                0\n",
       "..    ...        ...       ...              ...\n",
       "94   0.95  -3.907413  0.002289             9999\n",
       "95   0.96  -3.892185  0.002219             9999\n",
       "96   0.97  -3.877165  0.002150             9999\n",
       "97   0.98  -3.862354  0.002082             9999\n",
       "98   0.99  -3.847753  0.002016             9999\n",
       "\n",
       "[990000 rows x 4 columns]"
      ]
     },
     "execution_count": 3,
     "metadata": {},
     "output_type": "execute_result"
    }
   ],
   "source": [
    "def one_sim_replicate(mu = np.array([0.1, 0.3, 0.6]), m = 40, n = 50, n_alpha = 99):\n",
    "  a = rng.multinomial(n=m, pvals = mu)\n",
    "  b = rng.multinomial(n=n-m, pvals = mu)\n",
    "  c = a + b\n",
    "\n",
    "  alpha = np.linspace(0.01, 0.99, n_alpha).reshape(n_alpha, 1)\n",
    "\n",
    "  mu_hat = alpha * a / m + (1 - alpha) * mu\n",
    "  mu_hat[mu_hat < 0] = 0\n",
    "  mu_hat = mu_hat / np.sum(mu_hat, axis = 1, keepdims=True)\n",
    "\n",
    "  log_score = multinomial(n=n, p=mu_hat).logpmf(c)\n",
    "  mse = np.mean((mu_hat - c/n)**2, axis=1)\n",
    "\n",
    "  scores = pd.DataFrame({\n",
    "    'alpha': alpha.squeeze(),\n",
    "    'log_score': log_score,\n",
    "    'mse': mse\n",
    "  })\n",
    "  \n",
    "  return scores\n",
    "\n",
    "all_scores = pd.concat([\n",
    "  one_sim_replicate().assign(replicate_index = i) \\\n",
    "    for i in range(10000)\n",
    "])\n",
    "\n",
    "all_scores"
   ]
  },
  {
   "cell_type": "code",
   "execution_count": 4,
   "metadata": {},
   "outputs": [],
   "source": [
    "mean_scores = all_scores.drop(columns='replicate_index') \\\n",
    "  .groupby('alpha', as_index = False) \\\n",
    "  .mean()"
   ]
  },
  {
   "cell_type": "code",
   "execution_count": 5,
   "metadata": {},
   "outputs": [
    {
     "data": {
      "image/png": "[encoded data removed]",
      "text/plain": [
       "<Figure size 432x288 with 1 Axes>"
      ]
     },
     "metadata": {
      "needs_background": "light"
     },
     "output_type": "display_data"
    }
   ],
   "source": [
    "plt.plot(mean_scores['alpha'], mean_scores['log_score'])\n",
    "plt.xlabel('alpha')\n",
    "plt.ylabel('mean log score')\n",
    "plt.show()"
   ]
  },
  {
   "cell_type": "code",
   "execution_count": 6,
   "metadata": {},
   "outputs": [
    {
     "data": {
      "image/png": "[encoded data removed]",
      "text/plain": [
       "<Figure size 432x288 with 1 Axes>"
      ]
     },
     "metadata": {
      "needs_background": "light"
     },
     "output_type": "display_data"
    }
   ],
   "source": [
    "plt.plot(mean_scores['alpha'], mean_scores['mse'])\n",
    "plt.xlabel('alpha')\n",
    "plt.ylabel('mse')\n",
    "plt.show()"
   ]
  },
  {
   "cell_type": "markdown",
   "metadata": {},
   "source": [
    "Here we replicate the above, with $m = 20$ samples (40% of the final sample size) reported as of the time the prediction is submitted:"
   ]
  },
  {
   "cell_type": "code",
   "execution_count": 7,
   "metadata": {},
   "outputs": [
    {
     "data": {
      "image/png": "[encoded data removed]",
      "text/plain": [
       "<Figure size 432x288 with 1 Axes>"
      ]
     },
     "metadata": {
      "needs_background": "light"
     },
     "output_type": "display_data"
    },
    {
     "data": {
      "image/png": "[encoded data removed]",
      "text/plain": [
       "<Figure size 432x288 with 1 Axes>"
      ]
     },
     "metadata": {
      "needs_background": "light"
     },
     "output_type": "display_data"
    }
   ],
   "source": [
    "all_scores_m20 = pd.concat([\n",
    "  one_sim_replicate(m = 20).assign(replicate_index = i) \\\n",
    "    for i in range(10000)\n",
    "])\n",
    "\n",
    "mean_scores_m20 = all_scores_m20.drop(columns='replicate_index') \\\n",
    "  .groupby('alpha', as_index = False) \\\n",
    "  .mean()\n",
    "\n",
    "plt.plot(mean_scores_m20['alpha'], mean_scores_m20['log_score'])\n",
    "plt.xlabel('alpha')\n",
    "plt.ylabel('mean log score')\n",
    "plt.show()\n",
    "\n",
    "plt.plot(mean_scores_m20['alpha'], mean_scores_m20['mse'])\n",
    "plt.xlabel('alpha')\n",
    "plt.ylabel('mse')\n",
    "plt.show()\n"
   ]
  },
  {
   "cell_type": "markdown",
   "metadata": {},
   "source": [
    "For both scores (log score and MSE), in expectation the forecaster is rewarded for submitting not the population mean $\\mu_t$, but a version of $\\mu_t$ that has been shrunk toward the sample proportions available in any partially reported data.  The amount by which the submitted value should shrink toward the sample proportions depends on the proportion of the final sample size that has been reported as of the time the prediction is generated.\n",
    "\n",
    "However, these behaviors are what we tried to avoid with our proposed evaluation scheme above!\n",
    "\n",
    " - In the presence of partially reported data, we are not eliciting predictions of the population mean $\\mu_t$\n",
    " - In the presence of partially reported data, modelers are encouraged to model the final sample size $N_t$ so that they can determine the right shrinkage factor to use."
   ]
  },
  {
   "cell_type": "markdown",
   "metadata": {},
   "source": [
    "## Where next?\n",
    "\n",
    "I think our idea might have worked for a forecasting exercise -- but in the hub we're setting up, we're interested in nowcasting, including nowcasting for past dates where some partial data reports are available. My current understanding is that the ideas we've outlined for forecast submission and evaluation don't get us where we want to go in that kind of setting. I think the heart of the problem is that we will be comparing forecasts to the observed data, and when some (fairly complete) partial data reports are available, a good nowcast will make a prediction that matches those partial data well, potentially moving the prediction away from the population mean. This is particularly an issue when final reported sample counts are small, in which case there may be a lot of noise in the final reported sample proportions and we don't want to see predictions that follow that noise closely.\n",
    "\n",
    "I'd like to suggest that we consider returning to ideas where we explicitly target and score predictions of observed data, potentially after smoothing the data to reduce some of the issues with noise in low-count daily observations.  One smoother that's often been used historically in other forecasting exercises is a trailing 7-day sum, i.e., weekly counts.  In our case, the natural translation of that idea would be weekly proportions, i.e., sample proportions based on the total set of samples collected in the 7 days ending on a target date.  If we wanted to see how things are changing on a daily basis, we could consider predictions of the proportions in a rolling 7 day window ending on each day throughout a period of interest.  This would tend to lag the proportions on the current date if based on a trailing 7 day window, so we could also consider centering the rolling window on the target date (target date - 3, target date - 2, ..., target date + 3).  We might also want to consider possible impacts of different sample sizes on different dates, and whether or not we think it's appropriate for dates within a 7-day window that have more samples to dominate the computation of the target value.\n"
   ]
  }
 ],
 "metadata": {
  "kernelspec": {
   "display_name": "Python 3",
   "language": "python",
   "name": "python3"
  },
  "language_info": {
   "codemirror_mode": {
    "name": "ipython",
    "version": 3
   },
   "file_extension": ".py",
   "mimetype": "text/x-python",
   "name": "python",
   "nbconvert_exporter": "python",
   "pygments_lexer": "ipython3",
   "version": "3.9.10"
  }
 },
 "nbformat": 4,
 "nbformat_minor": 2
}
